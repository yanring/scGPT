{
 "cells": [
  {
   "cell_type": "code",
   "execution_count": 1,
   "metadata": {},
   "outputs": [
    {
     "name": "stderr",
     "output_type": "stream",
     "text": [
      "/usr/local/lib/python3.10/dist-packages/tqdm/auto.py:21: TqdmWarning: IProgress not found. Please update jupyter and ipywidgets. See https://ipywidgets.readthedocs.io/en/stable/user_install.html\n",
      "  from .autonotebook import tqdm as notebook_tqdm\n"
     ]
    }
   ],
   "source": [
    "import anndata\n",
    "import random\n",
    "import numpy as np\n",
    "import pandas as pd\n",
    "import scanpy as sc\n",
    "from gears import PertData\n",
    "from scipy import sparse\n"
   ]
  },
  {
   "cell_type": "code",
   "execution_count": 2,
   "metadata": {},
   "outputs": [],
   "source": [
    "adata = anndata.read_h5ad('/home/scratch.zijiey_sw/Algorithm/scGPT/scgpt/save/new/HuTcellsCRISPRaPerturbSeq_Re-stimulated_with_metadata.h5ad')\n",
    "adata.X = sparse.csr_matrix(adata.X)"
   ]
  },
  {
   "cell_type": "code",
   "execution_count": 3,
   "metadata": {},
   "outputs": [],
   "source": [
    "adata.obs.rename(columns={'condition': 'cell_type', 'perturbation':'condition'}, inplace=True)\n",
    "adata.obs['cell_type'] = 'Restimulated'\n",
    "adata.obs['cell_type'] = adata.obs['cell_type'].astype('category')\n",
    "adata.obs['condition'] = (adata.obs['condition'].astype('str') + '+ctrl')\n",
    "adata.obs.loc[adata.obs['condition'] == 'NO-TARGET+ctrl', 'condition'] = 'ctrl'\n",
    "adata.obs['condition'] = adata.obs['condition'].astype('category')\n"
   ]
  },
  {
   "cell_type": "code",
   "execution_count": 4,
   "metadata": {},
   "outputs": [
    {
     "data": {
      "text/html": [
       "<div>\n",
       "<style scoped>\n",
       "    .dataframe tbody tr th:only-of-type {\n",
       "        vertical-align: middle;\n",
       "    }\n",
       "\n",
       "    .dataframe tbody tr th {\n",
       "        vertical-align: top;\n",
       "    }\n",
       "\n",
       "    .dataframe thead th {\n",
       "        text-align: right;\n",
       "    }\n",
       "</style>\n",
       "<table border=\"1\" class=\"dataframe\">\n",
       "  <thead>\n",
       "    <tr style=\"text-align: right;\">\n",
       "      <th></th>\n",
       "      <th>nCount_RNA</th>\n",
       "      <th>nFeature_RNA</th>\n",
       "      <th>orig.ident</th>\n",
       "      <th>cell_type</th>\n",
       "      <th>guide_id</th>\n",
       "      <th>gene</th>\n",
       "      <th>gene_category</th>\n",
       "      <th>crispr</th>\n",
       "      <th>donor</th>\n",
       "      <th>percent.mt</th>\n",
       "      <th>...</th>\n",
       "      <th>G2M.Score</th>\n",
       "      <th>Phase</th>\n",
       "      <th>old.ident</th>\n",
       "      <th>CD4.CD8.Score</th>\n",
       "      <th>CD4.or.CD8</th>\n",
       "      <th>SCT_snn_res.0.4</th>\n",
       "      <th>seurat_clusters</th>\n",
       "      <th>cluster_name</th>\n",
       "      <th>activation.score</th>\n",
       "      <th>condition</th>\n",
       "    </tr>\n",
       "  </thead>\n",
       "  <tbody>\n",
       "    <tr>\n",
       "      <th>AACAACCGTCTGCATA-5</th>\n",
       "      <td>9224.0</td>\n",
       "      <td>3199</td>\n",
       "      <td>0</td>\n",
       "      <td>Restimulated</td>\n",
       "      <td>ABCB10-1</td>\n",
       "      <td>0</td>\n",
       "      <td>0</td>\n",
       "      <td>0</td>\n",
       "      <td>Donor2</td>\n",
       "      <td>5.951865</td>\n",
       "      <td>...</td>\n",
       "      <td>-0.091633</td>\n",
       "      <td>S</td>\n",
       "      <td>0</td>\n",
       "      <td>2.321928</td>\n",
       "      <td>CD4</td>\n",
       "      <td>2</td>\n",
       "      <td>1</td>\n",
       "      <td>2: Negative Regulators</td>\n",
       "      <td>-14.574648</td>\n",
       "      <td>ABCB10+ctrl</td>\n",
       "    </tr>\n",
       "    <tr>\n",
       "      <th>GACTCTCTCCAAATGC-5</th>\n",
       "      <td>4823.0</td>\n",
       "      <td>2355</td>\n",
       "      <td>0</td>\n",
       "      <td>Restimulated</td>\n",
       "      <td>ABCB10-1</td>\n",
       "      <td>0</td>\n",
       "      <td>0</td>\n",
       "      <td>0</td>\n",
       "      <td>Donor2</td>\n",
       "      <td>10.491395</td>\n",
       "      <td>...</td>\n",
       "      <td>-0.028818</td>\n",
       "      <td>S</td>\n",
       "      <td>0</td>\n",
       "      <td>-2.496681</td>\n",
       "      <td>CD8</td>\n",
       "      <td>1</td>\n",
       "      <td>9</td>\n",
       "      <td>10: CD8 Common</td>\n",
       "      <td>158.064092</td>\n",
       "      <td>ABCB10+ctrl</td>\n",
       "    </tr>\n",
       "    <tr>\n",
       "      <th>GTCATCCTCTTGAGCA-5</th>\n",
       "      <td>2658.0</td>\n",
       "      <td>1540</td>\n",
       "      <td>0</td>\n",
       "      <td>Restimulated</td>\n",
       "      <td>ABCB10-1</td>\n",
       "      <td>0</td>\n",
       "      <td>0</td>\n",
       "      <td>0</td>\n",
       "      <td>Donor2</td>\n",
       "      <td>11.211437</td>\n",
       "      <td>...</td>\n",
       "      <td>-0.157436</td>\n",
       "      <td>G1</td>\n",
       "      <td>0</td>\n",
       "      <td>-2.060021</td>\n",
       "      <td>CD8</td>\n",
       "      <td>2</td>\n",
       "      <td>1</td>\n",
       "      <td>2: Negative Regulators</td>\n",
       "      <td>-51.062569</td>\n",
       "      <td>ABCB10+ctrl</td>\n",
       "    </tr>\n",
       "    <tr>\n",
       "      <th>GTTGTAGGTTGGATCT-5</th>\n",
       "      <td>4112.0</td>\n",
       "      <td>2050</td>\n",
       "      <td>0</td>\n",
       "      <td>Restimulated</td>\n",
       "      <td>ABCB10-1</td>\n",
       "      <td>0</td>\n",
       "      <td>0</td>\n",
       "      <td>0</td>\n",
       "      <td>Donor1</td>\n",
       "      <td>11.892023</td>\n",
       "      <td>...</td>\n",
       "      <td>-0.140252</td>\n",
       "      <td>G1</td>\n",
       "      <td>0</td>\n",
       "      <td>2.321928</td>\n",
       "      <td>CD4</td>\n",
       "      <td>0</td>\n",
       "      <td>13</td>\n",
       "      <td>14: CD4 Common</td>\n",
       "      <td>120.215364</td>\n",
       "      <td>ABCB10+ctrl</td>\n",
       "    </tr>\n",
       "    <tr>\n",
       "      <th>TGGAGGATCAAATGAG-5</th>\n",
       "      <td>6537.0</td>\n",
       "      <td>2794</td>\n",
       "      <td>0</td>\n",
       "      <td>Restimulated</td>\n",
       "      <td>ABCB10-1</td>\n",
       "      <td>0</td>\n",
       "      <td>0</td>\n",
       "      <td>0</td>\n",
       "      <td>Donor2</td>\n",
       "      <td>5.705981</td>\n",
       "      <td>...</td>\n",
       "      <td>1.084080</td>\n",
       "      <td>G2M</td>\n",
       "      <td>0</td>\n",
       "      <td>-1.584963</td>\n",
       "      <td>CD8</td>\n",
       "      <td>8</td>\n",
       "      <td>5</td>\n",
       "      <td>6: Proliferative (G2/M)</td>\n",
       "      <td>72.955008</td>\n",
       "      <td>ABCB10+ctrl</td>\n",
       "    </tr>\n",
       "    <tr>\n",
       "      <th>TCATGTTAGCGGATCA-5</th>\n",
       "      <td>5186.0</td>\n",
       "      <td>2450</td>\n",
       "      <td>0</td>\n",
       "      <td>Restimulated</td>\n",
       "      <td>ABCB10-1</td>\n",
       "      <td>0</td>\n",
       "      <td>0</td>\n",
       "      <td>0</td>\n",
       "      <td>Donor2</td>\n",
       "      <td>6.768222</td>\n",
       "      <td>...</td>\n",
       "      <td>0.486292</td>\n",
       "      <td>G2M</td>\n",
       "      <td>0</td>\n",
       "      <td>0.000000</td>\n",
       "      <td>Unassigned</td>\n",
       "      <td>8</td>\n",
       "      <td>5</td>\n",
       "      <td>6: Proliferative (G2/M)</td>\n",
       "      <td>290.197750</td>\n",
       "      <td>ABCB10+ctrl</td>\n",
       "    </tr>\n",
       "    <tr>\n",
       "      <th>ATTCACTTCCGATTAG-5</th>\n",
       "      <td>4093.0</td>\n",
       "      <td>2056</td>\n",
       "      <td>0</td>\n",
       "      <td>Restimulated</td>\n",
       "      <td>ABCB10-1</td>\n",
       "      <td>0</td>\n",
       "      <td>0</td>\n",
       "      <td>0</td>\n",
       "      <td>Donor2</td>\n",
       "      <td>9.504031</td>\n",
       "      <td>...</td>\n",
       "      <td>-0.039268</td>\n",
       "      <td>S</td>\n",
       "      <td>0</td>\n",
       "      <td>3.503330</td>\n",
       "      <td>CD4</td>\n",
       "      <td>0</td>\n",
       "      <td>13</td>\n",
       "      <td>14: CD4 Common</td>\n",
       "      <td>161.483587</td>\n",
       "      <td>ABCB10+ctrl</td>\n",
       "    </tr>\n",
       "    <tr>\n",
       "      <th>TCCACCAAGCGTGCCT-5</th>\n",
       "      <td>7441.0</td>\n",
       "      <td>3097</td>\n",
       "      <td>0</td>\n",
       "      <td>Restimulated</td>\n",
       "      <td>ABCB10-1</td>\n",
       "      <td>0</td>\n",
       "      <td>0</td>\n",
       "      <td>0</td>\n",
       "      <td>Donor1</td>\n",
       "      <td>11.100659</td>\n",
       "      <td>...</td>\n",
       "      <td>0.109466</td>\n",
       "      <td>S</td>\n",
       "      <td>0</td>\n",
       "      <td>2.321928</td>\n",
       "      <td>CD4</td>\n",
       "      <td>10</td>\n",
       "      <td>6</td>\n",
       "      <td>7: TNF Locus High</td>\n",
       "      <td>354.856858</td>\n",
       "      <td>ABCB10+ctrl</td>\n",
       "    </tr>\n",
       "    <tr>\n",
       "      <th>GTCACGGCAGACATCT-5</th>\n",
       "      <td>9999.0</td>\n",
       "      <td>3479</td>\n",
       "      <td>0</td>\n",
       "      <td>Restimulated</td>\n",
       "      <td>ABCB10-1</td>\n",
       "      <td>0</td>\n",
       "      <td>0</td>\n",
       "      <td>0</td>\n",
       "      <td>Donor2</td>\n",
       "      <td>6.930693</td>\n",
       "      <td>...</td>\n",
       "      <td>0.404482</td>\n",
       "      <td>G2M</td>\n",
       "      <td>0</td>\n",
       "      <td>-2.625253</td>\n",
       "      <td>CD8</td>\n",
       "      <td>3</td>\n",
       "      <td>8</td>\n",
       "      <td>9: CCL3/4 High, IFNG Low</td>\n",
       "      <td>310.454667</td>\n",
       "      <td>ABCB10+ctrl</td>\n",
       "    </tr>\n",
       "    <tr>\n",
       "      <th>AGTCACAGTAGCACAG-5</th>\n",
       "      <td>5814.0</td>\n",
       "      <td>2384</td>\n",
       "      <td>0</td>\n",
       "      <td>Restimulated</td>\n",
       "      <td>ABCB10-1</td>\n",
       "      <td>0</td>\n",
       "      <td>0</td>\n",
       "      <td>0</td>\n",
       "      <td>Donor2</td>\n",
       "      <td>5.796354</td>\n",
       "      <td>...</td>\n",
       "      <td>-0.161810</td>\n",
       "      <td>G1</td>\n",
       "      <td>0</td>\n",
       "      <td>2.875751</td>\n",
       "      <td>CD4</td>\n",
       "      <td>7</td>\n",
       "      <td>2</td>\n",
       "      <td>3: Th2</td>\n",
       "      <td>284.172526</td>\n",
       "      <td>ABCB10+ctrl</td>\n",
       "    </tr>\n",
       "  </tbody>\n",
       "</table>\n",
       "<p>10 rows × 24 columns</p>\n",
       "</div>"
      ],
      "text/plain": [
       "                    nCount_RNA  nFeature_RNA  orig.ident     cell_type  \\\n",
       "AACAACCGTCTGCATA-5      9224.0          3199           0  Restimulated   \n",
       "GACTCTCTCCAAATGC-5      4823.0          2355           0  Restimulated   \n",
       "GTCATCCTCTTGAGCA-5      2658.0          1540           0  Restimulated   \n",
       "GTTGTAGGTTGGATCT-5      4112.0          2050           0  Restimulated   \n",
       "TGGAGGATCAAATGAG-5      6537.0          2794           0  Restimulated   \n",
       "TCATGTTAGCGGATCA-5      5186.0          2450           0  Restimulated   \n",
       "ATTCACTTCCGATTAG-5      4093.0          2056           0  Restimulated   \n",
       "TCCACCAAGCGTGCCT-5      7441.0          3097           0  Restimulated   \n",
       "GTCACGGCAGACATCT-5      9999.0          3479           0  Restimulated   \n",
       "AGTCACAGTAGCACAG-5      5814.0          2384           0  Restimulated   \n",
       "\n",
       "                    guide_id  gene  gene_category  crispr   donor  percent.mt  \\\n",
       "AACAACCGTCTGCATA-5  ABCB10-1     0              0       0  Donor2    5.951865   \n",
       "GACTCTCTCCAAATGC-5  ABCB10-1     0              0       0  Donor2   10.491395   \n",
       "GTCATCCTCTTGAGCA-5  ABCB10-1     0              0       0  Donor2   11.211437   \n",
       "GTTGTAGGTTGGATCT-5  ABCB10-1     0              0       0  Donor1   11.892023   \n",
       "TGGAGGATCAAATGAG-5  ABCB10-1     0              0       0  Donor2    5.705981   \n",
       "TCATGTTAGCGGATCA-5  ABCB10-1     0              0       0  Donor2    6.768222   \n",
       "ATTCACTTCCGATTAG-5  ABCB10-1     0              0       0  Donor2    9.504031   \n",
       "TCCACCAAGCGTGCCT-5  ABCB10-1     0              0       0  Donor1   11.100659   \n",
       "GTCACGGCAGACATCT-5  ABCB10-1     0              0       0  Donor2    6.930693   \n",
       "AGTCACAGTAGCACAG-5  ABCB10-1     0              0       0  Donor2    5.796354   \n",
       "\n",
       "                    ...  G2M.Score  Phase  old.ident  CD4.CD8.Score  \\\n",
       "AACAACCGTCTGCATA-5  ...  -0.091633      S          0       2.321928   \n",
       "GACTCTCTCCAAATGC-5  ...  -0.028818      S          0      -2.496681   \n",
       "GTCATCCTCTTGAGCA-5  ...  -0.157436     G1          0      -2.060021   \n",
       "GTTGTAGGTTGGATCT-5  ...  -0.140252     G1          0       2.321928   \n",
       "TGGAGGATCAAATGAG-5  ...   1.084080    G2M          0      -1.584963   \n",
       "TCATGTTAGCGGATCA-5  ...   0.486292    G2M          0       0.000000   \n",
       "ATTCACTTCCGATTAG-5  ...  -0.039268      S          0       3.503330   \n",
       "TCCACCAAGCGTGCCT-5  ...   0.109466      S          0       2.321928   \n",
       "GTCACGGCAGACATCT-5  ...   0.404482    G2M          0      -2.625253   \n",
       "AGTCACAGTAGCACAG-5  ...  -0.161810     G1          0       2.875751   \n",
       "\n",
       "                    CD4.or.CD8 SCT_snn_res.0.4  seurat_clusters  \\\n",
       "AACAACCGTCTGCATA-5         CD4               2                1   \n",
       "GACTCTCTCCAAATGC-5         CD8               1                9   \n",
       "GTCATCCTCTTGAGCA-5         CD8               2                1   \n",
       "GTTGTAGGTTGGATCT-5         CD4               0               13   \n",
       "TGGAGGATCAAATGAG-5         CD8               8                5   \n",
       "TCATGTTAGCGGATCA-5  Unassigned               8                5   \n",
       "ATTCACTTCCGATTAG-5         CD4               0               13   \n",
       "TCCACCAAGCGTGCCT-5         CD4              10                6   \n",
       "GTCACGGCAGACATCT-5         CD8               3                8   \n",
       "AGTCACAGTAGCACAG-5         CD4               7                2   \n",
       "\n",
       "                                cluster_name activation.score    condition  \n",
       "AACAACCGTCTGCATA-5    2: Negative Regulators       -14.574648  ABCB10+ctrl  \n",
       "GACTCTCTCCAAATGC-5            10: CD8 Common       158.064092  ABCB10+ctrl  \n",
       "GTCATCCTCTTGAGCA-5    2: Negative Regulators       -51.062569  ABCB10+ctrl  \n",
       "GTTGTAGGTTGGATCT-5            14: CD4 Common       120.215364  ABCB10+ctrl  \n",
       "TGGAGGATCAAATGAG-5   6: Proliferative (G2/M)        72.955008  ABCB10+ctrl  \n",
       "TCATGTTAGCGGATCA-5   6: Proliferative (G2/M)       290.197750  ABCB10+ctrl  \n",
       "ATTCACTTCCGATTAG-5            14: CD4 Common       161.483587  ABCB10+ctrl  \n",
       "TCCACCAAGCGTGCCT-5         7: TNF Locus High       354.856858  ABCB10+ctrl  \n",
       "GTCACGGCAGACATCT-5  9: CCL3/4 High, IFNG Low       310.454667  ABCB10+ctrl  \n",
       "AGTCACAGTAGCACAG-5                    3: Th2       284.172526  ABCB10+ctrl  \n",
       "\n",
       "[10 rows x 24 columns]"
      ]
     },
     "execution_count": 4,
     "metadata": {},
     "output_type": "execute_result"
    }
   ],
   "source": [
    "# adata.obs.rename(columns={'celltype': 'cell_type'}, inplace=True)\n",
    "# adata.obs['condition'] = (adata.obs['perturbation'].astype('str') + '+ctrl').astype('category')\n",
    "adata.obs.head(10)"
   ]
  },
  {
   "cell_type": "code",
   "execution_count": 5,
   "metadata": {},
   "outputs": [
    {
     "data": {
      "text/html": [
       "<div>\n",
       "<style scoped>\n",
       "    .dataframe tbody tr th:only-of-type {\n",
       "        vertical-align: middle;\n",
       "    }\n",
       "\n",
       "    .dataframe tbody tr th {\n",
       "        vertical-align: top;\n",
       "    }\n",
       "\n",
       "    .dataframe thead th {\n",
       "        text-align: right;\n",
       "    }\n",
       "</style>\n",
       "<table border=\"1\" class=\"dataframe\">\n",
       "  <thead>\n",
       "    <tr style=\"text-align: right;\">\n",
       "      <th></th>\n",
       "      <th>features</th>\n",
       "      <th>gene_name</th>\n",
       "    </tr>\n",
       "  </thead>\n",
       "  <tbody>\n",
       "    <tr>\n",
       "      <th>ISG15</th>\n",
       "      <td>ISG15</td>\n",
       "      <td>ISG15</td>\n",
       "    </tr>\n",
       "    <tr>\n",
       "      <th>TNFRSF18</th>\n",
       "      <td>TNFRSF18</td>\n",
       "      <td>TNFRSF18</td>\n",
       "    </tr>\n",
       "    <tr>\n",
       "      <th>TNFRSF4</th>\n",
       "      <td>TNFRSF4</td>\n",
       "      <td>TNFRSF4</td>\n",
       "    </tr>\n",
       "    <tr>\n",
       "      <th>SCNN1D</th>\n",
       "      <td>SCNN1D</td>\n",
       "      <td>SCNN1D</td>\n",
       "    </tr>\n",
       "    <tr>\n",
       "      <th>AL691432.4</th>\n",
       "      <td>AL691432.4</td>\n",
       "      <td>AL691432.4</td>\n",
       "    </tr>\n",
       "    <tr>\n",
       "      <th>PLCH2</th>\n",
       "      <td>PLCH2</td>\n",
       "      <td>PLCH2</td>\n",
       "    </tr>\n",
       "    <tr>\n",
       "      <th>AL139246.5</th>\n",
       "      <td>AL139246.5</td>\n",
       "      <td>AL139246.5</td>\n",
       "    </tr>\n",
       "    <tr>\n",
       "      <th>TNFRSF14</th>\n",
       "      <td>TNFRSF14</td>\n",
       "      <td>TNFRSF14</td>\n",
       "    </tr>\n",
       "    <tr>\n",
       "      <th>MMEL1</th>\n",
       "      <td>MMEL1</td>\n",
       "      <td>MMEL1</td>\n",
       "    </tr>\n",
       "    <tr>\n",
       "      <th>MEGF6</th>\n",
       "      <td>MEGF6</td>\n",
       "      <td>MEGF6</td>\n",
       "    </tr>\n",
       "  </tbody>\n",
       "</table>\n",
       "</div>"
      ],
      "text/plain": [
       "              features   gene_name\n",
       "ISG15            ISG15       ISG15\n",
       "TNFRSF18      TNFRSF18    TNFRSF18\n",
       "TNFRSF4        TNFRSF4     TNFRSF4\n",
       "SCNN1D          SCNN1D      SCNN1D\n",
       "AL691432.4  AL691432.4  AL691432.4\n",
       "PLCH2            PLCH2       PLCH2\n",
       "AL139246.5  AL139246.5  AL139246.5\n",
       "TNFRSF14      TNFRSF14    TNFRSF14\n",
       "MMEL1            MMEL1       MMEL1\n",
       "MEGF6            MEGF6       MEGF6"
      ]
     },
     "execution_count": 5,
     "metadata": {},
     "output_type": "execute_result"
    }
   ],
   "source": [
    "adata.var['gene_name'] = adata.var.index\n",
    "adata.var.head(10)"
   ]
  },
  {
   "cell_type": "code",
   "execution_count": 6,
   "metadata": {},
   "outputs": [],
   "source": [
    "# sc.pp.normalize_total(adata)\n",
    "# sc.pp.log1p(adata)\n",
    "sc.pp.highly_variable_genes(adata,n_top_genes=5000, subset=True)"
   ]
  },
  {
   "cell_type": "code",
   "execution_count": 15,
   "metadata": {},
   "outputs": [],
   "source": [
    "# adata.write('./data/normanweissman2019_filtered_train/perturb_processed.h5ad')"
   ]
  },
  {
   "cell_type": "code",
   "execution_count": 7,
   "metadata": {},
   "outputs": [],
   "source": [
    "sc.pp.log1p(adata)"
   ]
  },
  {
   "cell_type": "code",
   "execution_count": 8,
   "metadata": {},
   "outputs": [
    {
     "name": "stderr",
     "output_type": "stream",
     "text": [
      "Downloading...\n",
      "100%|██████████| 9.46M/9.46M [00:00<00:00, 15.2MiB/s]\n",
      "Downloading...\n",
      "100%|██████████| 559k/559k [00:00<00:00, 1.74MiB/s]\n",
      "Creating pyg object for each cell in the data...\n",
      "Creating dataset file...\n",
      "  1%|▏         | 1/70 [00:00<00:53,  1.28it/s]"
     ]
    },
    {
     "name": "stdout",
     "output_type": "stream",
     "text": [
      "AKAP12+ctrl\n"
     ]
    },
    {
     "name": "stderr",
     "output_type": "stream",
     "text": [
      "  6%|▌         | 4/70 [00:03<01:03,  1.03it/s]"
     ]
    },
    {
     "name": "stdout",
     "output_type": "stream",
     "text": [
      "APOBEC3D+ctrl\n"
     ]
    },
    {
     "name": "stderr",
     "output_type": "stream",
     "text": [
      " 10%|█         | 7/70 [00:07<01:08,  1.09s/it]"
     ]
    },
    {
     "name": "stdout",
     "output_type": "stream",
     "text": [
      "BICDL2+ctrl\n"
     ]
    },
    {
     "name": "stderr",
     "output_type": "stream",
     "text": [
      " 13%|█▎        | 9/70 [00:10<01:23,  1.37s/it]"
     ]
    },
    {
     "name": "stdout",
     "output_type": "stream",
     "text": [
      "CD2+ctrl\n"
     ]
    },
    {
     "name": "stderr",
     "output_type": "stream",
     "text": [
      " 14%|█▍        | 10/70 [00:11<01:21,  1.36s/it]"
     ]
    },
    {
     "name": "stdout",
     "output_type": "stream",
     "text": [
      "CD247+ctrl\n"
     ]
    },
    {
     "name": "stderr",
     "output_type": "stream",
     "text": [
      " 16%|█▌        | 11/70 [00:12<01:19,  1.35s/it]"
     ]
    },
    {
     "name": "stdout",
     "output_type": "stream",
     "text": [
      "CD27+ctrl\n"
     ]
    },
    {
     "name": "stderr",
     "output_type": "stream",
     "text": [
      " 17%|█▋        | 12/70 [00:15<01:32,  1.60s/it]"
     ]
    },
    {
     "name": "stdout",
     "output_type": "stream",
     "text": [
      "CD28+ctrl\n"
     ]
    },
    {
     "name": "stderr",
     "output_type": "stream",
     "text": [
      " 19%|█▊        | 13/70 [00:15<01:19,  1.40s/it]"
     ]
    },
    {
     "name": "stdout",
     "output_type": "stream",
     "text": [
      "CEACAM1+ctrl\n"
     ]
    },
    {
     "name": "stderr",
     "output_type": "stream",
     "text": [
      " 20%|██        | 14/70 [00:16<01:10,  1.25s/it]"
     ]
    },
    {
     "name": "stdout",
     "output_type": "stream",
     "text": [
      "CNR2+ctrl\n"
     ]
    },
    {
     "name": "stderr",
     "output_type": "stream",
     "text": [
      " 24%|██▍       | 17/70 [00:19<00:53,  1.01s/it]"
     ]
    },
    {
     "name": "stdout",
     "output_type": "stream",
     "text": [
      "EMP1+ctrl\n"
     ]
    },
    {
     "name": "stderr",
     "output_type": "stream",
     "text": [
      " 33%|███▎      | 23/70 [00:27<00:43,  1.09it/s]"
     ]
    },
    {
     "name": "stdout",
     "output_type": "stream",
     "text": [
      "FOXL2NB+ctrl\n"
     ]
    },
    {
     "name": "stderr",
     "output_type": "stream",
     "text": [
      " 37%|███▋      | 26/70 [00:29<00:35,  1.22it/s]"
     ]
    },
    {
     "name": "stdout",
     "output_type": "stream",
     "text": [
      "GRAP+ctrl\n"
     ]
    },
    {
     "name": "stderr",
     "output_type": "stream",
     "text": [
      " 39%|███▊      | 27/70 [00:31<00:49,  1.16s/it]"
     ]
    },
    {
     "name": "stdout",
     "output_type": "stream",
     "text": [
      "IFNG+ctrl\n"
     ]
    },
    {
     "name": "stderr",
     "output_type": "stream",
     "text": [
      " 41%|████▏     | 29/70 [00:34<00:51,  1.26s/it]"
     ]
    },
    {
     "name": "stdout",
     "output_type": "stream",
     "text": [
      "IL1R1+ctrl\n"
     ]
    },
    {
     "name": "stderr",
     "output_type": "stream",
     "text": [
      " 43%|████▎     | 30/70 [00:35<00:52,  1.32s/it]"
     ]
    },
    {
     "name": "stdout",
     "output_type": "stream",
     "text": [
      "IL2+ctrl\n"
     ]
    },
    {
     "name": "stderr",
     "output_type": "stream",
     "text": [
      " 44%|████▍     | 31/70 [00:37<00:59,  1.54s/it]"
     ]
    },
    {
     "name": "stdout",
     "output_type": "stream",
     "text": [
      "IL2RB+ctrl\n"
     ]
    },
    {
     "name": "stderr",
     "output_type": "stream",
     "text": [
      " 46%|████▌     | 32/70 [00:39<00:56,  1.50s/it]"
     ]
    },
    {
     "name": "stdout",
     "output_type": "stream",
     "text": [
      "IL2RG+ctrl\n"
     ]
    },
    {
     "name": "stderr",
     "output_type": "stream",
     "text": [
      " 47%|████▋     | 33/70 [00:40<00:56,  1.52s/it]"
     ]
    },
    {
     "name": "stdout",
     "output_type": "stream",
     "text": [
      "IL9R+ctrl\n"
     ]
    },
    {
     "name": "stderr",
     "output_type": "stream",
     "text": [
      " 53%|█████▎    | 37/70 [00:46<00:49,  1.51s/it]"
     ]
    },
    {
     "name": "stdout",
     "output_type": "stream",
     "text": [
      "LAT+ctrl\n"
     ]
    },
    {
     "name": "stderr",
     "output_type": "stream",
     "text": [
      " 54%|█████▍    | 38/70 [00:48<00:47,  1.48s/it]"
     ]
    },
    {
     "name": "stdout",
     "output_type": "stream",
     "text": [
      "LAT2+ctrl\n"
     ]
    },
    {
     "name": "stderr",
     "output_type": "stream",
     "text": [
      " 64%|██████▍   | 45/70 [00:58<00:32,  1.30s/it]"
     ]
    },
    {
     "name": "stdout",
     "output_type": "stream",
     "text": [
      "MUC1+ctrl\n"
     ]
    },
    {
     "name": "stderr",
     "output_type": "stream",
     "text": [
      " 66%|██████▌   | 46/70 [00:59<00:35,  1.47s/it]"
     ]
    },
    {
     "name": "stdout",
     "output_type": "stream",
     "text": [
      "NLRC3+ctrl\n"
     ]
    },
    {
     "name": "stderr",
     "output_type": "stream",
     "text": [
      " 69%|██████▊   | 48/70 [01:01<00:21,  1.05it/s]"
     ]
    },
    {
     "name": "stdout",
     "output_type": "stream",
     "text": [
      "NOTCH1+ctrl\n"
     ]
    },
    {
     "name": "stderr",
     "output_type": "stream",
     "text": [
      " 70%|███████   | 49/70 [01:02<00:23,  1.13s/it]"
     ]
    },
    {
     "name": "stdout",
     "output_type": "stream",
     "text": [
      "OTUD7A+ctrl\n"
     ]
    },
    {
     "name": "stderr",
     "output_type": "stream",
     "text": [
      " 73%|███████▎  | 51/70 [01:04<00:19,  1.04s/it]"
     ]
    },
    {
     "name": "stdout",
     "output_type": "stream",
     "text": [
      "P2RY14+ctrl\n"
     ]
    },
    {
     "name": "stderr",
     "output_type": "stream",
     "text": [
      " 76%|███████▌  | 53/70 [01:06<00:17,  1.02s/it]"
     ]
    },
    {
     "name": "stdout",
     "output_type": "stream",
     "text": [
      "PIK3AP1+ctrl\n"
     ]
    },
    {
     "name": "stderr",
     "output_type": "stream",
     "text": [
      " 77%|███████▋  | 54/70 [01:08<00:19,  1.25s/it]"
     ]
    },
    {
     "name": "stdout",
     "output_type": "stream",
     "text": [
      "PLCG2+ctrl\n"
     ]
    },
    {
     "name": "stderr",
     "output_type": "stream",
     "text": [
      " 84%|████████▍ | 59/70 [01:16<00:16,  1.47s/it]"
     ]
    },
    {
     "name": "stdout",
     "output_type": "stream",
     "text": [
      "SLA2+ctrl\n"
     ]
    },
    {
     "name": "stderr",
     "output_type": "stream",
     "text": [
      " 86%|████████▌ | 60/70 [01:17<00:14,  1.42s/it]"
     ]
    },
    {
     "name": "stdout",
     "output_type": "stream",
     "text": [
      "TAGAP+ctrl\n"
     ]
    },
    {
     "name": "stderr",
     "output_type": "stream",
     "text": [
      " 93%|█████████▎| 65/70 [01:25<00:08,  1.67s/it]"
     ]
    },
    {
     "name": "stdout",
     "output_type": "stream",
     "text": [
      "TNFRSF9+ctrl\n"
     ]
    },
    {
     "name": "stderr",
     "output_type": "stream",
     "text": [
      "100%|██████████| 70/70 [01:34<00:00,  1.34s/it]\n",
      "Done!\n",
      "Saving new dataset pyg object at ./data/normanweissman2019_filtered_train_2/data_pyg/cell_graphs.pkl\n",
      "Done!\n",
      "Found local copy...\n",
      "These perturbations are not in the GO graph and their perturbation can thus not be predicted\n",
      "['AKAP12+ctrl' 'APOBEC3D+ctrl' 'BICDL2+ctrl' 'CD2+ctrl' 'CD247+ctrl'\n",
      " 'CD27+ctrl' 'CD28+ctrl' 'CEACAM1+ctrl' 'CNR2+ctrl' 'EMP1+ctrl'\n",
      " 'FOXL2NB+ctrl' 'GRAP+ctrl' 'IFNG+ctrl' 'IL1R1+ctrl' 'IL2+ctrl'\n",
      " 'IL2RB+ctrl' 'IL2RG+ctrl' 'IL9R+ctrl' 'LAT+ctrl' 'LAT2+ctrl' 'MUC1+ctrl'\n",
      " 'NLRC3+ctrl' 'NOTCH1+ctrl' 'OTUD7A+ctrl' 'P2RY14+ctrl' 'PIK3AP1+ctrl'\n",
      " 'PLCG2+ctrl' 'SLA2+ctrl' 'TAGAP+ctrl' 'TNFRSF9+ctrl']\n",
      "Local copy of pyg dataset is detected. Loading...\n",
      "Done!\n",
      "Creating new splits....\n",
      "Saving new splits at ./data/normanweissman2019_filtered_train_2/splits/normanweissman2019_filtered_train_2_simulation_1_0.75.pkl\n",
      "Simulation split test composition:\n",
      "combo_seen0:0\n",
      "combo_seen1:0\n",
      "combo_seen2:0\n",
      "unseen_single:10\n",
      "Done!\n",
      "Creating dataloaders....\n",
      "Done!\n"
     ]
    }
   ],
   "source": [
    "# import sys\n",
    "# sys.path.append('../')\n",
    "\n",
    "# from gears import PertData\n",
    "\n",
    "pert_data = PertData('./data') # specific saved folder\n",
    "pert_data.new_data_process(dataset_name = 'NormanWeissman2019_filtered_train_2', adata = adata) # specific dataset name and adata object\n",
    "pert_data.load(data_path = './data/normanweissman2019_filtered_train_2') # load the processed data, the path is saved folder + dataset_name\n",
    "pert_data.prepare_split(split = 'simulation', seed = 1) # get data split with seed\n",
    "pert_data.get_dataloader(batch_size = 32, test_batch_size = 128) # prepare data loader"
   ]
  },
  {
   "cell_type": "code",
   "execution_count": 9,
   "metadata": {},
   "outputs": [
    {
     "name": "stderr",
     "output_type": "stream",
     "text": [
      "Found local copy...\n",
      "Downloading...\n",
      "100%|██████████| 169M/169M [00:05<00:00, 31.2MiB/s] \n",
      "Extracting zip file...\n"
     ]
    },
    {
     "ename": "KeyboardInterrupt",
     "evalue": "",
     "output_type": "error",
     "traceback": [
      "\u001b[0;31m---------------------------------------------------------------------------\u001b[0m",
      "\u001b[0;31mKeyboardInterrupt\u001b[0m                         Traceback (most recent call last)",
      "Cell \u001b[0;32mIn[9], line 2\u001b[0m\n\u001b[1;32m      1\u001b[0m pert_data \u001b[38;5;241m=\u001b[39m PertData(\u001b[38;5;124m'\u001b[39m\u001b[38;5;124m./data\u001b[39m\u001b[38;5;124m'\u001b[39m) \u001b[38;5;66;03m# specific saved folder\u001b[39;00m\n\u001b[0;32m----> 2\u001b[0m \u001b[43mpert_data\u001b[49m\u001b[38;5;241;43m.\u001b[39;49m\u001b[43mload\u001b[49m\u001b[43m(\u001b[49m\u001b[43mdata_name\u001b[49m\u001b[43m \u001b[49m\u001b[38;5;241;43m=\u001b[39;49m\u001b[43m \u001b[49m\u001b[38;5;124;43m'\u001b[39;49m\u001b[38;5;124;43mnorman\u001b[39;49m\u001b[38;5;124;43m'\u001b[39;49m\u001b[43m)\u001b[49m \u001b[38;5;66;03m# specific dataset name\u001b[39;00m\n\u001b[1;32m      3\u001b[0m pert_data\u001b[38;5;241m.\u001b[39mprepare_split(split \u001b[38;5;241m=\u001b[39m \u001b[38;5;124m'\u001b[39m\u001b[38;5;124msimulation\u001b[39m\u001b[38;5;124m'\u001b[39m, seed \u001b[38;5;241m=\u001b[39m \u001b[38;5;241m1\u001b[39m) \u001b[38;5;66;03m# get data split with seed\u001b[39;00m\n\u001b[1;32m      4\u001b[0m pert_data\u001b[38;5;241m.\u001b[39mget_dataloader(batch_size \u001b[38;5;241m=\u001b[39m \u001b[38;5;241m32\u001b[39m, test_batch_size \u001b[38;5;241m=\u001b[39m \u001b[38;5;241m128\u001b[39m) \u001b[38;5;66;03m# prepare data loader\u001b[39;00m\n",
      "File \u001b[0;32m/usr/local/lib/python3.10/dist-packages/gears/pertdata.py:167\u001b[0m, in \u001b[0;36mPertData.load\u001b[0;34m(self, data_name, data_path)\u001b[0m\n\u001b[1;32m    165\u001b[0m     url \u001b[38;5;241m=\u001b[39m \u001b[38;5;124m'\u001b[39m\u001b[38;5;124mhttps://dataverse.harvard.edu/api/access/datafile/7458694\u001b[39m\u001b[38;5;124m'\u001b[39m\n\u001b[1;32m    166\u001b[0m data_path \u001b[38;5;241m=\u001b[39m os\u001b[38;5;241m.\u001b[39mpath\u001b[38;5;241m.\u001b[39mjoin(\u001b[38;5;28mself\u001b[39m\u001b[38;5;241m.\u001b[39mdata_path, data_name)\n\u001b[0;32m--> 167\u001b[0m \u001b[43mzip_data_download_wrapper\u001b[49m\u001b[43m(\u001b[49m\u001b[43murl\u001b[49m\u001b[43m,\u001b[49m\u001b[43m \u001b[49m\u001b[43mdata_path\u001b[49m\u001b[43m,\u001b[49m\u001b[43m \u001b[49m\u001b[38;5;28;43mself\u001b[39;49m\u001b[38;5;241;43m.\u001b[39;49m\u001b[43mdata_path\u001b[49m\u001b[43m)\u001b[49m\n\u001b[1;32m    168\u001b[0m \u001b[38;5;28mself\u001b[39m\u001b[38;5;241m.\u001b[39mdataset_name \u001b[38;5;241m=\u001b[39m data_path\u001b[38;5;241m.\u001b[39msplit(\u001b[38;5;124m'\u001b[39m\u001b[38;5;124m/\u001b[39m\u001b[38;5;124m'\u001b[39m)[\u001b[38;5;241m-\u001b[39m\u001b[38;5;241m1\u001b[39m]\n\u001b[1;32m    169\u001b[0m \u001b[38;5;28mself\u001b[39m\u001b[38;5;241m.\u001b[39mdataset_path \u001b[38;5;241m=\u001b[39m data_path\n",
      "File \u001b[0;32m/usr/local/lib/python3.10/dist-packages/gears/utils.py:91\u001b[0m, in \u001b[0;36mzip_data_download_wrapper\u001b[0;34m(url, save_path, data_path)\u001b[0m\n\u001b[1;32m     89\u001b[0m print_sys(\u001b[38;5;124m'\u001b[39m\u001b[38;5;124mExtracting zip file...\u001b[39m\u001b[38;5;124m'\u001b[39m)\n\u001b[1;32m     90\u001b[0m \u001b[38;5;28;01mwith\u001b[39;00m ZipFile((save_path \u001b[38;5;241m+\u001b[39m \u001b[38;5;124m'\u001b[39m\u001b[38;5;124m.zip\u001b[39m\u001b[38;5;124m'\u001b[39m), \u001b[38;5;124m'\u001b[39m\u001b[38;5;124mr\u001b[39m\u001b[38;5;124m'\u001b[39m) \u001b[38;5;28;01mas\u001b[39;00m \u001b[38;5;28mzip\u001b[39m:\n\u001b[0;32m---> 91\u001b[0m     \u001b[38;5;28;43mzip\u001b[39;49m\u001b[38;5;241;43m.\u001b[39;49m\u001b[43mextractall\u001b[49m\u001b[43m(\u001b[49m\u001b[43mpath\u001b[49m\u001b[43m \u001b[49m\u001b[38;5;241;43m=\u001b[39;49m\u001b[43m \u001b[49m\u001b[43mdata_path\u001b[49m\u001b[43m)\u001b[49m\n\u001b[1;32m     92\u001b[0m print_sys(\u001b[38;5;124m\"\u001b[39m\u001b[38;5;124mDone!\u001b[39m\u001b[38;5;124m\"\u001b[39m)\n",
      "File \u001b[0;32m/usr/lib/python3.10/zipfile.py:1647\u001b[0m, in \u001b[0;36mZipFile.extractall\u001b[0;34m(self, path, members, pwd)\u001b[0m\n\u001b[1;32m   1644\u001b[0m     path \u001b[38;5;241m=\u001b[39m os\u001b[38;5;241m.\u001b[39mfspath(path)\n\u001b[1;32m   1646\u001b[0m \u001b[38;5;28;01mfor\u001b[39;00m zipinfo \u001b[38;5;129;01min\u001b[39;00m members:\n\u001b[0;32m-> 1647\u001b[0m     \u001b[38;5;28;43mself\u001b[39;49m\u001b[38;5;241;43m.\u001b[39;49m\u001b[43m_extract_member\u001b[49m\u001b[43m(\u001b[49m\u001b[43mzipinfo\u001b[49m\u001b[43m,\u001b[49m\u001b[43m \u001b[49m\u001b[43mpath\u001b[49m\u001b[43m,\u001b[49m\u001b[43m \u001b[49m\u001b[43mpwd\u001b[49m\u001b[43m)\u001b[49m\n",
      "File \u001b[0;32m/usr/lib/python3.10/zipfile.py:1702\u001b[0m, in \u001b[0;36mZipFile._extract_member\u001b[0;34m(self, member, targetpath, pwd)\u001b[0m\n\u001b[1;32m   1698\u001b[0m     \u001b[38;5;28;01mreturn\u001b[39;00m targetpath\n\u001b[1;32m   1700\u001b[0m \u001b[38;5;28;01mwith\u001b[39;00m \u001b[38;5;28mself\u001b[39m\u001b[38;5;241m.\u001b[39mopen(member, pwd\u001b[38;5;241m=\u001b[39mpwd) \u001b[38;5;28;01mas\u001b[39;00m source, \\\n\u001b[1;32m   1701\u001b[0m      \u001b[38;5;28mopen\u001b[39m(targetpath, \u001b[38;5;124m\"\u001b[39m\u001b[38;5;124mwb\u001b[39m\u001b[38;5;124m\"\u001b[39m) \u001b[38;5;28;01mas\u001b[39;00m target:\n\u001b[0;32m-> 1702\u001b[0m     \u001b[43mshutil\u001b[49m\u001b[38;5;241;43m.\u001b[39;49m\u001b[43mcopyfileobj\u001b[49m\u001b[43m(\u001b[49m\u001b[43msource\u001b[49m\u001b[43m,\u001b[49m\u001b[43m \u001b[49m\u001b[43mtarget\u001b[49m\u001b[43m)\u001b[49m\n\u001b[1;32m   1704\u001b[0m \u001b[38;5;28;01mreturn\u001b[39;00m targetpath\n",
      "File \u001b[0;32m/usr/lib/python3.10/shutil.py:195\u001b[0m, in \u001b[0;36mcopyfileobj\u001b[0;34m(fsrc, fdst, length)\u001b[0m\n\u001b[1;32m    193\u001b[0m fdst_write \u001b[38;5;241m=\u001b[39m fdst\u001b[38;5;241m.\u001b[39mwrite\n\u001b[1;32m    194\u001b[0m \u001b[38;5;28;01mwhile\u001b[39;00m \u001b[38;5;28;01mTrue\u001b[39;00m:\n\u001b[0;32m--> 195\u001b[0m     buf \u001b[38;5;241m=\u001b[39m \u001b[43mfsrc_read\u001b[49m\u001b[43m(\u001b[49m\u001b[43mlength\u001b[49m\u001b[43m)\u001b[49m\n\u001b[1;32m    196\u001b[0m     \u001b[38;5;28;01mif\u001b[39;00m \u001b[38;5;129;01mnot\u001b[39;00m buf:\n\u001b[1;32m    197\u001b[0m         \u001b[38;5;28;01mbreak\u001b[39;00m\n",
      "File \u001b[0;32m/usr/lib/python3.10/zipfile.py:927\u001b[0m, in \u001b[0;36mZipExtFile.read\u001b[0;34m(self, n)\u001b[0m\n\u001b[1;32m    925\u001b[0m \u001b[38;5;28mself\u001b[39m\u001b[38;5;241m.\u001b[39m_offset \u001b[38;5;241m=\u001b[39m \u001b[38;5;241m0\u001b[39m\n\u001b[1;32m    926\u001b[0m \u001b[38;5;28;01mwhile\u001b[39;00m n \u001b[38;5;241m>\u001b[39m \u001b[38;5;241m0\u001b[39m \u001b[38;5;129;01mand\u001b[39;00m \u001b[38;5;129;01mnot\u001b[39;00m \u001b[38;5;28mself\u001b[39m\u001b[38;5;241m.\u001b[39m_eof:\n\u001b[0;32m--> 927\u001b[0m     data \u001b[38;5;241m=\u001b[39m \u001b[38;5;28;43mself\u001b[39;49m\u001b[38;5;241;43m.\u001b[39;49m\u001b[43m_read1\u001b[49m\u001b[43m(\u001b[49m\u001b[43mn\u001b[49m\u001b[43m)\u001b[49m\n\u001b[1;32m    928\u001b[0m     \u001b[38;5;28;01mif\u001b[39;00m n \u001b[38;5;241m<\u001b[39m \u001b[38;5;28mlen\u001b[39m(data):\n\u001b[1;32m    929\u001b[0m         \u001b[38;5;28mself\u001b[39m\u001b[38;5;241m.\u001b[39m_readbuffer \u001b[38;5;241m=\u001b[39m data\n",
      "File \u001b[0;32m/usr/lib/python3.10/zipfile.py:1003\u001b[0m, in \u001b[0;36mZipExtFile._read1\u001b[0;34m(self, n)\u001b[0m\n\u001b[1;32m   1001\u001b[0m \u001b[38;5;28;01melif\u001b[39;00m \u001b[38;5;28mself\u001b[39m\u001b[38;5;241m.\u001b[39m_compress_type \u001b[38;5;241m==\u001b[39m ZIP_DEFLATED:\n\u001b[1;32m   1002\u001b[0m     n \u001b[38;5;241m=\u001b[39m \u001b[38;5;28mmax\u001b[39m(n, \u001b[38;5;28mself\u001b[39m\u001b[38;5;241m.\u001b[39mMIN_READ_SIZE)\n\u001b[0;32m-> 1003\u001b[0m     data \u001b[38;5;241m=\u001b[39m \u001b[38;5;28;43mself\u001b[39;49m\u001b[38;5;241;43m.\u001b[39;49m\u001b[43m_decompressor\u001b[49m\u001b[38;5;241;43m.\u001b[39;49m\u001b[43mdecompress\u001b[49m\u001b[43m(\u001b[49m\u001b[43mdata\u001b[49m\u001b[43m,\u001b[49m\u001b[43m \u001b[49m\u001b[43mn\u001b[49m\u001b[43m)\u001b[49m\n\u001b[1;32m   1004\u001b[0m     \u001b[38;5;28mself\u001b[39m\u001b[38;5;241m.\u001b[39m_eof \u001b[38;5;241m=\u001b[39m (\u001b[38;5;28mself\u001b[39m\u001b[38;5;241m.\u001b[39m_decompressor\u001b[38;5;241m.\u001b[39meof \u001b[38;5;129;01mor\u001b[39;00m\n\u001b[1;32m   1005\u001b[0m                  \u001b[38;5;28mself\u001b[39m\u001b[38;5;241m.\u001b[39m_compress_left \u001b[38;5;241m<\u001b[39m\u001b[38;5;241m=\u001b[39m \u001b[38;5;241m0\u001b[39m \u001b[38;5;129;01mand\u001b[39;00m\n\u001b[1;32m   1006\u001b[0m                  \u001b[38;5;129;01mnot\u001b[39;00m \u001b[38;5;28mself\u001b[39m\u001b[38;5;241m.\u001b[39m_decompressor\u001b[38;5;241m.\u001b[39munconsumed_tail)\n\u001b[1;32m   1007\u001b[0m     \u001b[38;5;28;01mif\u001b[39;00m \u001b[38;5;28mself\u001b[39m\u001b[38;5;241m.\u001b[39m_eof:\n",
      "\u001b[0;31mKeyboardInterrupt\u001b[0m: "
     ]
    }
   ],
   "source": [
    "pert_data = PertData('./data') # specific saved folder\n",
    "pert_data.load(data_name = 'norman') # specific dataset name\n",
    "pert_data.prepare_split(split = 'simulation', seed = 1) # get data split with seed\n",
    "pert_data.get_dataloader(batch_size = 32, test_batch_size = 128) # prepare data loader"
   ]
  },
  {
   "cell_type": "code",
   "execution_count": null,
   "metadata": {},
   "outputs": [],
   "source": []
  },
  {
   "cell_type": "code",
   "execution_count": 50,
   "metadata": {},
   "outputs": [
    {
     "name": "stdout",
     "output_type": "stream",
     "text": [
      "Re-stimulated_ABCB10+ctrl_1+1\n",
      "['Re-stimulated_ABCB10', 'ctrl_1', '1']\n",
      "R\n"
     ]
    },
    {
     "ename": "IndexError",
     "evalue": "index 0 is out of bounds for axis 0 with size 0",
     "output_type": "error",
     "traceback": [
      "\u001b[0;31m---------------------------------------------------------------------------\u001b[0m",
      "\u001b[0;31mIndexError\u001b[0m                                Traceback (most recent call last)",
      "\u001b[0;32m/tmp/ipykernel_17348/1658307237.py\u001b[0m in \u001b[0;36m<cell line: 1>\u001b[0;34m()\u001b[0m\n\u001b[1;32m      5\u001b[0m         \u001b[0mprint\u001b[0m\u001b[0;34m(\u001b[0m\u001b[0mi\u001b[0m\u001b[0;34m.\u001b[0m\u001b[0msplit\u001b[0m\u001b[0;34m(\u001b[0m\u001b[0;34m'+'\u001b[0m\u001b[0;34m)\u001b[0m\u001b[0;34m)\u001b[0m\u001b[0;34m\u001b[0m\u001b[0;34m\u001b[0m\u001b[0m\n\u001b[1;32m      6\u001b[0m         \u001b[0mprint\u001b[0m\u001b[0;34m(\u001b[0m\u001b[0mp\u001b[0m\u001b[0;34m)\u001b[0m\u001b[0;34m\u001b[0m\u001b[0;34m\u001b[0m\u001b[0m\n\u001b[0;32m----> 7\u001b[0;31m         \u001b[0mprint\u001b[0m\u001b[0;34m(\u001b[0m\u001b[0mnp\u001b[0m\u001b[0;34m.\u001b[0m\u001b[0mwhere\u001b[0m\u001b[0;34m(\u001b[0m\u001b[0mp\u001b[0m \u001b[0;34m==\u001b[0m \u001b[0madata\u001b[0m\u001b[0;34m.\u001b[0m\u001b[0mvar\u001b[0m\u001b[0;34m.\u001b[0m\u001b[0mgene_name\u001b[0m\u001b[0;34m)\u001b[0m\u001b[0;34m[\u001b[0m\u001b[0;36m0\u001b[0m\u001b[0;34m]\u001b[0m\u001b[0;34m[\u001b[0m\u001b[0;36m0\u001b[0m\u001b[0;34m]\u001b[0m\u001b[0;34m)\u001b[0m\u001b[0;34m\u001b[0m\u001b[0;34m\u001b[0m\u001b[0m\n\u001b[0m",
      "\u001b[0;31mIndexError\u001b[0m: index 0 is out of bounds for axis 0 with size 0"
     ]
    }
   ],
   "source": [
    "for i in adata.obs.condition_name:\n",
    "    print(i)\n",
    "    if not i.endswith('ctrl_1'):\n",
    "        p = i.split('+')[0][0]\n",
    "        print(i.split('+'))\n",
    "        print(p)\n",
    "        print(np.where(p == adata.var.gene_name)[0][0])"
   ]
  }
 ],
 "metadata": {
  "kernelspec": {
   "display_name": "venv",
   "language": "python",
   "name": "python3"
  },
  "language_info": {
   "codemirror_mode": {
    "name": "ipython",
    "version": 3
   },
   "file_extension": ".py",
   "mimetype": "text/x-python",
   "name": "python",
   "nbconvert_exporter": "python",
   "pygments_lexer": "ipython3",
   "version": "3.10.12"
  }
 },
 "nbformat": 4,
 "nbformat_minor": 2
}
